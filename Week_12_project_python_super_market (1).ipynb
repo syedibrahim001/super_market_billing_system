{
 "cells": [
  {
   "cell_type": "code",
   "execution_count": 7,
   "id": "95a9474b-d8e3-4e56-a5b5-c31d154c4501",
   "metadata": {},
   "outputs": [],
   "source": [
    "products={\"apple\":20,\"mango\":50,\"chips\":40,\"dates\":70}"
   ]
  },
  {
   "cell_type": "code",
   "execution_count": 9,
   "id": "141e2806-2678-40a7-84bf-c5af04cc35d0",
   "metadata": {},
   "outputs": [
    {
     "name": "stdout",
     "output_type": "stream",
     "text": [
      "--------------- welcome to Super market ---------------\n"
     ]
    },
    {
     "name": "stdin",
     "output_type": "stream",
     "text": [
      "enter your name ayub\n",
      "enter your phone number: xxxxxxxx39\n"
     ]
    },
    {
     "name": "stdout",
     "output_type": "stream",
     "text": [
      "--------------- Product list ---------------\n",
      "apple - 20\n",
      "mango - 50\n",
      "chips - 40\n",
      "dates - 70\n"
     ]
    },
    {
     "name": "stdin",
     "output_type": "stream",
     "text": [
      "enter product you wish to buy apple\n",
      "enter quantity 4\n",
      "do u wanna add more iteams? (yes/no)? no\n"
     ]
    },
    {
     "name": "stdout",
     "output_type": "stream",
     "text": [
      "----------------------------------------\n",
      "name ayub\n",
      "phone xxxxxxxx39\n",
      "----------------------------------------\n",
      "apple price 20 x 4.0 = 80.0\n",
      "TOTAL AMOUNT : 80.0\n",
      "DISCOUNT APPLIED : 0 %\n",
      "----------------------------------------\n",
      "PAYABLE AMOUNT 80.0\n",
      "----------------------------------------\n",
      "------------- VISIT AGAIN --------------\n"
     ]
    },
    {
     "name": "stdin",
     "output_type": "stream",
     "text": [
      "next person? yes\n",
      "enter your name anas\n",
      "enter your phone number: xxxxxxxx87\n"
     ]
    },
    {
     "name": "stdout",
     "output_type": "stream",
     "text": [
      "--------------- Product list ---------------\n",
      "apple - 20\n",
      "mango - 50\n",
      "chips - 40\n",
      "dates - 70\n"
     ]
    },
    {
     "name": "stdin",
     "output_type": "stream",
     "text": [
      "enter product you wish to buy dates\n",
      "enter quantity 8\n",
      "do u wanna add more iteams? (yes/no)? yes\n",
      "enter product you wish to buy mango\n",
      "enter quantity 5\n",
      "do u wanna add more iteams? (yes/no)? no\n"
     ]
    },
    {
     "name": "stdout",
     "output_type": "stream",
     "text": [
      "----------------------------------------\n",
      "name anas\n",
      "phone xxxxxxxx87\n",
      "----------------------------------------\n",
      "dates price 70 x 8.0 = 560.0\n",
      "mango price 50 x 5.0 = 250.0\n",
      "TOTAL AMOUNT : 810.0\n",
      "DISCOUNT APPLIED : 5.0 %\n",
      "----------------------------------------\n",
      "PAYABLE AMOUNT 769.5\n",
      "----------------------------------------\n",
      "------------- VISIT AGAIN --------------\n"
     ]
    },
    {
     "name": "stdin",
     "output_type": "stream",
     "text": [
      "next person? no\n"
     ]
    }
   ],
   "source": [
    "print(\"-\"*15,\"welcome to Super market\",\"-\"*15)\n",
    "while True:\n",
    "    cart={}\n",
    "    amount=0\n",
    "    name=input(\"enter your name\")\n",
    "    phone_no =input('enter your phone number:')\n",
    "    \n",
    "    \n",
    "    print(\"-\"*15,\"Product list\", \"-\"*15)\n",
    "    \n",
    "    for i,j  in products.items():\n",
    "        print(i, \"-\", j)\n",
    "    \n",
    "    while True:\n",
    "        p_name = input(\"enter product you wish to buy\")\n",
    "        quantity= float(input(\"enter quantity\"))\n",
    "        val = []\n",
    "        val.append(products[p_name])  # Price of the product\n",
    "        val.append(quantity)  # Quantity the user wants to buy\n",
    "        val.append(quantity * products[p_name])\n",
    "        cart[p_name] = val\n",
    "        amount += products[p_name] * quantity\n",
    "        repeat=input(\"do u wanna add more iteams? (yes/no)?\")\n",
    "        if repeat == \"no\":\n",
    "                     break\n",
    "    if amount<=500:\n",
    "        discount=0\n",
    "    elif amount<=1000:\n",
    "        discount=0.05\n",
    "    elif amount<=3000:\n",
    "        discount=0.10\n",
    "    else:\n",
    "        discount=0.15\n",
    "    \n",
    "    actual_amount = amount-(amount*discount)\n",
    "    \n",
    "    \n",
    "    print(\"-\"*40)\n",
    "    print(\"name\" , name)\n",
    "    print(\"phone\" , phone_no)\n",
    "    print(\"-\"*40)\n",
    "    for i,j in cart.items():\n",
    "        print(i, \"price\" ,j[0] ,\"x\" ,j[1], \"=\" , j[2])\n",
    "    print(\"Total Amount\".upper() ,\":\"  , amount)\n",
    "    print(\"Discount Applied\".upper() ,\":\" ,discount*100,\"%\")\n",
    "    print(\"-\"*40)\n",
    "    print(\"payable amount\".upper() ,actual_amount)\n",
    "    print(\"-\"*40)\n",
    "    print(\"-\" * 13, \"VISIT AGAIN\".upper(), \"-\" * 14)\n",
    "    n_person =input(\"next person?\")\n",
    "    if n_person ==\"no\":\n",
    "        break\n"
   ]
  }
 ],
 "metadata": {
  "kernelspec": {
   "display_name": "Python 3 (ipykernel)",
   "language": "python",
   "name": "python3"
  },
  "language_info": {
   "codemirror_mode": {
    "name": "ipython",
    "version": 3
   },
   "file_extension": ".py",
   "mimetype": "text/x-python",
   "name": "python",
   "nbconvert_exporter": "python",
   "pygments_lexer": "ipython3",
   "version": "3.12.4"
  }
 },
 "nbformat": 4,
 "nbformat_minor": 5
}
